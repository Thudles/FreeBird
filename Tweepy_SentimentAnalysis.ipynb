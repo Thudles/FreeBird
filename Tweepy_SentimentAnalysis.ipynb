{
  "nbformat": 4,
  "nbformat_minor": 0,
  "metadata": {
    "colab": {
      "provenance": [],
      "toc_visible": true,
      "collapsed_sections": [
        "rUdfYMvNR4Lk",
        "zSsoTq2NjPa2",
        "uJcg5S9ujSLb",
        "nZCPVDprkNZB",
        "jEVQfqdOsJ6k",
        "yKWtG8edtcvX",
        "YOk4jHZuuFVc"
      ]
    },
    "kernelspec": {
      "name": "python3",
      "display_name": "Python 3"
    },
    "language_info": {
      "name": "python"
    }
  },
  "cells": [
    {
      "cell_type": "markdown",
      "source": [
        "## Sentiment Analysis with Tweepy"
      ],
      "metadata": {
        "id": "0oyrQNkKRzWQ"
      }
    },
    {
      "cell_type": "markdown",
      "source": [
        "### Set up environment"
      ],
      "metadata": {
        "id": "rUdfYMvNR4Lk"
      }
    },
    {
      "cell_type": "code",
      "source": [
        "!pip install tweepy==4.9.0"
      ],
      "metadata": {
        "id": "7Ur3YFMkWdPv"
      },
      "execution_count": null,
      "outputs": []
    },
    {
      "cell_type": "code",
      "source": [
        "import tweepy\n",
        "import pandas as pd\n",
        "import re\n",
        "from nltk.sentiment.vader import SentimentIntensityAnalyzer\n",
        "from textblob import TextBlob\n",
        "import nltk\n",
        "nltk.download('vader_lexicon')\n",
        "\n",
        "import numpy as np\n",
        "from PIL import Image\n",
        "from wordcloud import WordCloud, STOPWORDS\n",
        "import matplotlib.pyplot as plt"
      ],
      "metadata": {
        "colab": {
          "base_uri": "https://localhost:8080/"
        },
        "id": "nlIbVOjQnV4U",
        "outputId": "8a25624a-2db6-446b-9633-60b71b0983b2"
      },
      "execution_count": null,
      "outputs": [
        {
          "output_type": "stream",
          "name": "stderr",
          "text": [
            "[nltk_data] Downloading package vader_lexicon to /root/nltk_data...\n"
          ]
        }
      ]
    },
    {
      "cell_type": "markdown",
      "source": [
        "### Twitter Authentication"
      ],
      "metadata": {
        "id": "zSsoTq2NjPa2"
      }
    },
    {
      "cell_type": "code",
      "source": [
        "#Put your Bearer Token in the parenthesis below\n",
        "client = tweepy.Client(bearer_token='replace_me')"
      ],
      "metadata": {
        "id": "QZgz15VGRtjH"
      },
      "execution_count": null,
      "outputs": []
    },
    {
      "cell_type": "markdown",
      "source": [
        "### Get recent public tweets on a keyword"
      ],
      "metadata": {
        "id": "uJcg5S9ujSLb"
      }
    },
    {
      "cell_type": "code",
      "source": [
        "# Pull tweets from twitter\n",
        "\n",
        "query = '#apple -is:retweet lang:en'\n",
        "paginator = tweepy.Paginator(\n",
        "    client.search_recent_tweets,           # The method you want to use\n",
        "    query=query,                           # Some argument for this method\n",
        "    max_results=100,                       # How many tweets per page\n",
        "    limit=10                               # How many pages to retrieve\n",
        ")\n",
        "# Get tweets that contain the hashtag #TypeKeywordHere\n",
        "# -is:retweet means I don't want retweets\n",
        "# lang:en is asking for the tweets to be in english\n",
        "\n",
        "tweet_list = []\n",
        "\n",
        "for tweet in paginator.flatten(): # Total number of tweets to retrieve\n",
        "    tweet_list.append(tweet)\n",
        "    print(tweet)"
      ],
      "metadata": {
        "id": "H2vOTd4vRkHf"
      },
      "execution_count": null,
      "outputs": []
    },
    {
      "cell_type": "code",
      "source": [
        "#Creating new dataframe and new features\n",
        "tweet_list_df = pd.DataFrame(tweet_list)\n",
        "tweet_list_df = pd.DataFrame(tweet_list_df['text'])\n",
        "tweet_list_df.head(5)"
      ],
      "metadata": {
        "id": "gOZB570MmTGL"
      },
      "execution_count": null,
      "outputs": []
    },
    {
      "cell_type": "markdown",
      "source": [
        "### Data preprocessing"
      ],
      "metadata": {
        "id": "nZCPVDprkNZB"
      }
    },
    {
      "cell_type": "code",
      "source": [
        "def preprocess_tweet(sen):\n",
        "    '''Cleans text data up, leaving only 2 or more char long non-stepwords composed of A-Z & a-z only\n",
        "    in lowercase'''\n",
        "\n",
        "    sentence = sen.lower()\n",
        "\n",
        "    # Remove RT\n",
        "    sentence = re.sub('RT @\\w+: ',\" \", sentence)\n",
        "\n",
        "    # Remove special characters\n",
        "    sentence = re.sub(\"(@[A-Za-z0-9]+)|([^0-9A-Za-z \\t])|(\\w+:\\/\\/\\S+)\",\" \", sentence)\n",
        "\n",
        "    # Single character removal\n",
        "    sentence = re.sub(r\"\\s+[a-zA-Z]\\s+\", ' ', sentence)  # When we remove apostrophe from the word \"Mark's\", the apostrophe is replaced by an empty space. Hence, we are left with single character \"s\" that we are removing here.\n",
        "\n",
        "    # Remove multiple spaces\n",
        "    sentence = re.sub(r'\\s+', ' ', sentence)  # Next, we remove all the single characters and replace it by a space which creates multiple spaces in our text. Finally, we remove the multiple spaces from our text as well.\n",
        "\n",
        "    return sentence"
      ],
      "metadata": {
        "id": "lwVrTWRzypq3"
      },
      "execution_count": null,
      "outputs": []
    },
    {
      "cell_type": "code",
      "source": [
        "cleaned_tweets = []\n",
        "\n",
        "for tweet in tweet_list_df['text']:\n",
        "  cleaned_tweet = preprocess_tweet(tweet)\n",
        "  cleaned_tweets.append(cleaned_tweet)"
      ],
      "metadata": {
        "id": "z1imVlg4tSnO"
      },
      "execution_count": null,
      "outputs": []
    },
    {
      "cell_type": "code",
      "source": [
        "tweet_list_df['cleaned'] = pd.DataFrame(cleaned_tweets)\n",
        "tweet_list_df.head(5)"
      ],
      "metadata": {
        "id": "eg0QYsvYvWfB"
      },
      "execution_count": null,
      "outputs": []
    },
    {
      "cell_type": "markdown",
      "source": [
        "### Generate Sentiment Labels"
      ],
      "metadata": {
        "id": "jEVQfqdOsJ6k"
      }
    },
    {
      "cell_type": "code",
      "source": [
        "#Calculating Negative, Positive, Neutral and Compound values\n",
        "\n",
        "tweet_list_df[['polarity', 'subjectivity']] = tweet_list_df['cleaned'].apply(lambda Text: pd.Series(TextBlob(Text).sentiment))\n",
        "for index, row in tweet_list_df['cleaned'].iteritems():\n",
        "    score = SentimentIntensityAnalyzer().polarity_scores(row)\n",
        "    neg = score['neg']\n",
        "    neu = score['neu']\n",
        "    pos = score['pos']\n",
        "    comp = score['compound']\n",
        "    if comp <= -0.05:\n",
        "        tweet_list_df.loc[index, 'sentiment'] = \"negative\"\n",
        "    elif comp >= 0.05:\n",
        "        tweet_list_df.loc[index, 'sentiment'] = \"positive\"\n",
        "    else:\n",
        "        tweet_list_df.loc[index, 'sentiment'] = \"neutral\"\n",
        "    tweet_list_df.loc[index, 'neg'] = neg\n",
        "    tweet_list_df.loc[index, 'neu'] = neu\n",
        "    tweet_list_df.loc[index, 'pos'] = pos\n",
        "    tweet_list_df.loc[index, 'compound'] = comp\n",
        "\n",
        "tweet_list_df.head(5)"
      ],
      "metadata": {
        "id": "D9dQvTcVnnko"
      },
      "execution_count": null,
      "outputs": []
    },
    {
      "cell_type": "markdown",
      "source": [
        "### Sentiment Visualisation"
      ],
      "metadata": {
        "id": "yKWtG8edtcvX"
      }
    },
    {
      "cell_type": "code",
      "source": [
        "#Creating new data frames for all sentiments (positive, negative and neutral)\n",
        "\n",
        "tweet_list_df_negative = tweet_list_df[tweet_list_df[\"sentiment\"]==\"negative\"]\n",
        "tweet_list_df_positive = tweet_list_df[tweet_list_df[\"sentiment\"]==\"positive\"]\n",
        "tweet_list_df_neutral = tweet_list_df[tweet_list_df[\"sentiment\"]==\"neutral\"]"
      ],
      "metadata": {
        "id": "WxWbCAVJnuGU"
      },
      "execution_count": null,
      "outputs": []
    },
    {
      "cell_type": "markdown",
      "source": [
        "#### Donut Charts"
      ],
      "metadata": {
        "id": "ZG16IbIxtyyt"
      }
    },
    {
      "cell_type": "code",
      "source": [
        "#Function for count_values_in single columns\n",
        "\n",
        "def count_values_in_column(data,feature):\n",
        "    total=data.loc[:,feature].value_counts(dropna=False)\n",
        "    percentage=round(data.loc[:,feature].value_counts(dropna=False,normalize=True)*100,2)\n",
        "    return pd.concat([total,percentage],axis=1,keys=['Total','Percentage'])"
      ],
      "metadata": {
        "id": "6iXzWynOoWOz"
      },
      "execution_count": null,
      "outputs": []
    },
    {
      "cell_type": "code",
      "source": [
        "#Count_values for sentiment\n",
        "count_values_in_column(tweet_list_df,\"sentiment\")"
      ],
      "metadata": {
        "id": "ChIFPmnkoWRm"
      },
      "execution_count": null,
      "outputs": []
    },
    {
      "cell_type": "code",
      "source": [
        "# create data for Pie Chart\n",
        "pichart = count_values_in_column(tweet_list_df,\"sentiment\")\n",
        "# names= pc.index\n",
        "# size=pc[\"Percentage\"]\n",
        "\n",
        "names= pichart.index\n",
        "size=pichart[\"Percentage\"]\n",
        "\n",
        "# Create a circle for the center of the plot\n",
        "my_circle=plt.Circle( (0,0), 0.7, color='white')\n",
        "plt.pie(size, labels=names, colors=['green','blue','red'])\n",
        "p=plt.gcf()\n",
        "p.gca().add_artist(my_circle)\n",
        "plt.show()"
      ],
      "metadata": {
        "colab": {
          "base_uri": "https://localhost:8080/",
          "height": 248
        },
        "id": "oezk2CQ6oWT8",
        "outputId": "8554f209-08b5-4606-dfd8-f7abc5b1a17e"
      },
      "execution_count": null,
      "outputs": [
        {
          "output_type": "display_data",
          "data": {
            "text/plain": [
              "<Figure size 432x288 with 1 Axes>"
            ],
            "image/png": "[encoded data removed]"
          },
          "metadata": {}
        }
      ]
    },
    {
      "cell_type": "markdown",
      "source": [
        "#### Word Clouds"
      ],
      "metadata": {
        "id": "6tIWo83ItnDI"
      }
    },
    {
      "cell_type": "code",
      "source": [
        "from google.colab import drive\n",
        "drive.mount('/content/drive')\n",
        "\n",
        "%cd /content/drive/My Drive/1_LiveProjects/Project9_TwitterAPI_Sentiments\n",
        "!ls"
      ],
      "metadata": {
        "id": "tCiDmEXUoWWz"
      },
      "execution_count": null,
      "outputs": []
    },
    {
      "cell_type": "code",
      "source": [
        "#Function to Create Wordcloud\n",
        "\n",
        "def create_wordcloud(text):\n",
        "    mask = np.array(Image.open(\"./a1_inputs/cloud.png\"))\n",
        "    stopwords = set(STOPWORDS)\n",
        "    wc = WordCloud(background_color=\"white\",\n",
        "                  mask = mask,\n",
        "                  max_words=100,\n",
        "                  stopwords=stopwords,\n",
        "                  repeat=True)\n",
        "    wc.generate(str(text))\n",
        "    wc.to_file(\"c1_wordcloud.png\")\n",
        "    print(\"Word Cloud Saved Successfully\")\n",
        "    path=\"c1_wordcloud.png\"\n",
        "    display(Image.open(path))"
      ],
      "metadata": {
        "id": "ko4iIxeiox4y"
      },
      "execution_count": null,
      "outputs": []
    },
    {
      "cell_type": "code",
      "source": [
        "# Creating wordcloud for all tweets\n",
        "\n",
        "create_wordcloud(tweet_list_df[\"cleaned\"].values)\n",
        "# create_wordcloud(tweet_list_df_positive[\"text\"].values)\n",
        "# create_wordcloud(tweet_list_df_negative[\"cleaned\"].values)\n",
        "# create_wordcloud(tweet_list_df_neutral[\"text\"].values)"
      ],
      "metadata": {
        "id": "3zQd2eqaoyuK"
      },
      "execution_count": null,
      "outputs": []
    },
    {
      "cell_type": "markdown",
      "source": [
        "#### Text Insights"
      ],
      "metadata": {
        "id": "PPDiNmT9t6IQ"
      }
    },
    {
      "cell_type": "code",
      "source": [
        "#Calculating tweet's lenght and word count\n",
        "tweet_list_df['text_len'] = tweet_list_df['cleaned'].astype(str).apply(len)\n",
        "tweet_list_df['text_word_count'] = tweet_list_df['cleaned'].apply(lambda x: len(str(x).split()))"
      ],
      "metadata": {
        "id": "haVap9kJoywg"
      },
      "execution_count": null,
      "outputs": []
    },
    {
      "cell_type": "code",
      "source": [
        "round(pd.DataFrame(tweet_list_df.groupby(\"sentiment\").text_len.mean()),2)"
      ],
      "metadata": {
        "id": "OAoy_tXioyzG"
      },
      "execution_count": null,
      "outputs": []
    },
    {
      "cell_type": "code",
      "source": [
        "round(pd.DataFrame(tweet_list_df.groupby(\"sentiment\").text_word_count.mean()),2)"
      ],
      "metadata": {
        "id": "Hv78m9waoy1c"
      },
      "execution_count": null,
      "outputs": []
    },
    {
      "cell_type": "markdown",
      "source": [
        "### Saving Output Tweets File to Drive"
      ],
      "metadata": {
        "id": "YOk4jHZuuFVc"
      }
    },
    {
      "cell_type": "code",
      "source": [
        "tweet_list_df.to_csv(\"./c2_sentimentanalysis_output.csv\", sep=',', encoding='UTF-8')\n",
        "tweet_list_df.head(5)"
      ],
      "metadata": {
        "id": "6uxs4q2Qo2Li"
      },
      "execution_count": null,
      "outputs": []
    }
  ]
}